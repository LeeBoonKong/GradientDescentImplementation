{
 "cells": [
  {
   "cell_type": "code",
   "execution_count": 186,
   "metadata": {},
   "outputs": [],
   "source": [
    "from numpy import *\n",
    "import pandas as pd"
   ]
  },
  {
   "cell_type": "code",
   "execution_count": 187,
   "metadata": {
    "collapsed": true
   },
   "outputs": [],
   "source": [
    "def sum_squared_distance(data,m,c):\n",
    "    data = np.array(data)\n",
    "    n = float(len(data))\n",
    "    sse = float(0)\n",
    "    for i in range(0,len(data)):\n",
    "        x=data[i,0]\n",
    "        y=data[i,1]\n",
    "        sse += (y - ((m*x) + c))**2\n",
    "    sse = sse/n\n",
    "    return sse"
   ]
  },
  {
   "cell_type": "code",
   "execution_count": 188,
   "metadata": {
    "collapsed": true
   },
   "outputs": [],
   "source": [
    "def update(data, weight_current, bias_current, learning_rate):\n",
    "    n= float(len(data))\n",
    "    bias_partial = float(0)\n",
    "    weight_partial = float(0)\n",
    "    \n",
    "    for i in range(0,len(data)):\n",
    "        x = data[i,0]\n",
    "        y = data[i,1]\n",
    "        bias_partial += -(2/n)*(y - ((weight_current*x) + bias_current))\n",
    "        weight_partial += -(2/n)*x*(y - ((weight_current*x) + bias_current))\n",
    "\n",
    "    new_weight = weight_current - (learning_rate*weight_partial)\n",
    "    new_bias = bias_current - (learning_rate*bias_partial)\n",
    "    return [new_weight, new_bias]"
   ]
  },
  {
   "cell_type": "code",
   "execution_count": 189,
   "metadata": {},
   "outputs": [],
   "source": [
    "def GradientDescent(data):\n",
    "    #get array for x and y\n",
    "    #Y = mX + c\n",
    "    #init\n",
    "    weight = float(0) #intial m\n",
    "    learning_rate = 0.0001\n",
    "    bias = float(0) #initial C\n",
    "    iteration = 1000\n",
    "    sse = float(0)\n",
    "    points = data\n",
    "    \n",
    "    print(\"SSE Before Iterations:\" + str(sum_squared_distance(points,weight,bias)))\n",
    "    i=0\n",
    "    while(i<iteration):\n",
    "        weight, bias = update(points,weight,bias,learning_rate)\n",
    "        i+=1\n",
    "        \n",
    "    print(weight)\n",
    "    print(bias)\n",
    "    print(\"SSE After Iterations:\" + str(sum_squared_distance(points,weight,bias)))"
   ]
  },
  {
   "cell_type": "code",
   "execution_count": 190,
   "metadata": {
    "collapsed": true
   },
   "outputs": [],
   "source": [
    "def run():\n",
    "    data = genfromtxt(\"data.csv\", delimiter=\",\")\n",
    "    \n",
    "    GradientDescent(data)"
   ]
  },
  {
   "cell_type": "code",
   "execution_count": 191,
   "metadata": {},
   "outputs": [
    {
     "name": "stdout",
     "output_type": "stream",
     "text": [
      "SSE Before Iterations:5565.10783448\n",
      "1.47774408519\n",
      "0.0889365199374\n",
      "SSE After Iterations:112.614810116\n"
     ]
    }
   ],
   "source": [
    "run()"
   ]
  },
  {
   "cell_type": "code",
   "execution_count": null,
   "metadata": {
    "collapsed": true
   },
   "outputs": [],
   "source": []
  }
 ],
 "metadata": {
  "kernelspec": {
   "display_name": "Python 3",
   "language": "python",
   "name": "python3"
  },
  "language_info": {
   "codemirror_mode": {
    "name": "ipython",
    "version": 3
   },
   "file_extension": ".py",
   "mimetype": "text/x-python",
   "name": "python",
   "nbconvert_exporter": "python",
   "pygments_lexer": "ipython3",
   "version": "3.6.2"
  }
 },
 "nbformat": 4,
 "nbformat_minor": 2
}
